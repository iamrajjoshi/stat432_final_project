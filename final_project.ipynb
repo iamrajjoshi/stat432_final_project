{
 "cells": [
  {
   "cell_type": "code",
   "execution_count": 1,
   "metadata": {},
   "outputs": [],
   "source": [
    "import pandas as pd\n",
    "from sklearn.model_selection import train_test_split\n"
   ]
  },
  {
   "cell_type": "code",
   "execution_count": 2,
   "metadata": {},
   "outputs": [],
   "source": [
    "raw_logs = pd.read_csv('train_logs.csv')\n",
    "\n",
    "# Create 80/20 train/test split, ensuring the same 'id' is kept in each set\n",
    "unique_ids = raw_logs['id'].unique()\n",
    "train_ids, test_ids = train_test_split(unique_ids, test_size=0.2, random_state=42)\n",
    "\n",
    "train = raw_logs[raw_logs['id'].isin(train_ids)]\n",
    "test = raw_logs[raw_logs['id'].isin(test_ids)]\n",
    "\n",
    "train.to_csv('train_logs_grouped.csv', index=False)\n",
    "test.to_csv('test_logs_grouped.csv', index=False)"
   ]
  },
  {
   "cell_type": "code",
   "execution_count": 5,
   "metadata": {},
   "outputs": [],
   "source": [
    "def aggregate_user_logs(data):\n",
    "    # Group 'Move From [x1, y1] To [x2, y2]' activities as 'Move From To'\n",
    "    data['activity_processed'] = data['activity'].replace(\n",
    "        to_replace=r'^Move From \\[\\d+, \\d+\\] To \\[\\d+, \\d+\\]$', value='Move From To', regex=True)\n",
    "\n",
    "    # Group by user ID\n",
    "    grouped = data.groupby('id')\n",
    "    \n",
    "    # Calculate latest uptime - earliest downtime\n",
    "    time_spent = grouped.apply(lambda x: x['up_time'].max() - x['down_time'].min()).rename('time_worked')\n",
    "\n",
    "    # Calculate average action time\n",
    "    avg_action_time = grouped['action_time'].mean().rename('avg_action_time')\n",
    "\n",
    "    # Count occurrences of each activity type\n",
    "    activity_counts = grouped['activity_processed'].value_counts().unstack(fill_value=0)\n",
    "\n",
    "    # Count the number of \"q\"s and special characters in text_change\n",
    "    count_letters = grouped['text_change'].apply(lambda x: x.str.count('q').sum()).rename('count_letters')\n",
    "    count_special_chars = grouped['text_change'].apply(lambda x: x.str.count('[^q]').sum()).rename('count_special_chars')\n",
    "\n",
    "    # Get final word count\n",
    "    final_word_count = grouped['word_count'].max().rename('final_word_count')\n",
    "\n",
    "    # Combine all aggregations\n",
    "    result = pd.concat([time_spent, avg_action_time, activity_counts, count_letters, count_special_chars, final_word_count], axis=1)\n",
    "    result = result.reset_index()\n",
    "    return result"
   ]
  },
  {
   "cell_type": "code",
   "execution_count": 6,
   "metadata": {},
   "outputs": [
    {
     "name": "stderr",
     "output_type": "stream",
     "text": [
      "/var/folders/3x/y6xdrkxd665b6dw333cmdnpw0000gn/T/ipykernel_90503/2038692233.py:3: SettingWithCopyWarning: \n",
      "A value is trying to be set on a copy of a slice from a DataFrame.\n",
      "Try using .loc[row_indexer,col_indexer] = value instead\n",
      "\n",
      "See the caveats in the documentation: https://pandas.pydata.org/pandas-docs/stable/user_guide/indexing.html#returning-a-view-versus-a-copy\n",
      "  data['activity_processed'] = data['activity'].replace(\n"
     ]
    },
    {
     "name": "stdout",
     "output_type": "stream",
     "text": [
      "         id  time_worked  avg_action_time  Input  Move From To  Nonproduction  \\\n",
      "0  001519c8      1797443       116.246774   2010             3            120   \n",
      "1  0022f953      1758346       112.221271   1938             0            254   \n",
      "2  0042269b      1767228       101.837766   3515             0            175   \n",
      "3  0059420b      1363074       121.848329   1304             0             99   \n",
      "4  0075873a      1584002       123.943896   1942             0             72   \n",
      "\n",
      "   Paste  Remove/Cut  Replace  count_letters  count_special_chars  \\\n",
      "0      0         417        7           2016                 1489   \n",
      "1      1         260        1           1705                 2538   \n",
      "2      0         439        7           3675                 2210   \n",
      "3      1         151        1           1168                 1108   \n",
      "4      0         517        0           1964                 1071   \n",
      "\n",
      "   final_word_count  \n",
      "0               256  \n",
      "1               323  \n",
      "2               404  \n",
      "3               206  \n",
      "4               252  \n"
     ]
    }
   ],
   "source": [
    "# Aggregate the training data\n",
    "aggregated_train_data = aggregate_user_logs(train)\n",
    "\n",
    "aggregated_train_data.to_csv('train_logs_aggregated.csv', index=False)\n",
    "print(aggregated_train_data.head())"
   ]
  }
 ],
 "metadata": {
  "kernelspec": {
   "display_name": "Python 3",
   "language": "python",
   "name": "python3"
  },
  "language_info": {
   "codemirror_mode": {
    "name": "ipython",
    "version": 3
   },
   "file_extension": ".py",
   "mimetype": "text/x-python",
   "name": "python",
   "nbconvert_exporter": "python",
   "pygments_lexer": "ipython3",
   "version": "3.9.7"
  }
 },
 "nbformat": 4,
 "nbformat_minor": 2
}
